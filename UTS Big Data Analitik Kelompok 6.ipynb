{
 "cells": [
  {
   "cell_type": "code",
   "execution_count": 1,
   "id": "1926054b",
   "metadata": {},
   "outputs": [],
   "source": [
    "# Import library yang diperlukan\n",
    "import pandas as pd"
   ]
  },
  {
   "cell_type": "code",
   "execution_count": 2,
   "id": "ea4ee9b2",
   "metadata": {},
   "outputs": [],
   "source": [
    "# Data Cleaning: Load data dari file CSV\n",
    "data1 = pd.read_csv('data1.csv')\n",
    "data2 = pd.read_csv('data2.csv')"
   ]
  },
  {
   "cell_type": "code",
   "execution_count": 3,
   "id": "a3376050",
   "metadata": {},
   "outputs": [],
   "source": [
    "# Data1\n",
    "data1 = pd.DataFrame({\n",
    "    'Nama': ['Dewanda Camilla Zah\\'ra', 'Fina Nur\\'aeni', 'Iqbal Hakim Nugraha', 'Nida Shofwatunnisa', 'Silmi Ainun Ashafani', 'Muhammad Yusuf Zulfikar'],\n",
    "    'Email Address': ['dewandacamilla26@gmail.com', 'finana367@gmail.com', 'iqbalhakim00@gmail.com', 'nidashofwatunnisa15@gmail.com', 'silmiainunashafani02@gmail.com', 'yusufzulfikar20@gmail.com'],\n",
    "    'Usia': [20, 20, 21, 20, 20, 20],\n",
    "    'Pembelian Terakhir': [50, 45, 81, 100, 79, 120]\n",
    "})\n",
    "\n",
    "# Data2\n",
    "data2 = pd.DataFrame({\n",
    "    'Nama': ['Dewanda Camilla Zah\\'ra', 'Fina Nur\\'aeni', 'Iqbal Hakim Nugraha', 'Nida Shofwatunnisa', 'Silmi Ainun Ashafani', 'Muhammad Yusuf Zulfikar'],\n",
    "    'Status Keanggotaan': ['Silver', 'Gold', 'Platinum', 'Gold', 'Silver', 'Silver'],\n",
    "    'Alamat Pengiriman': ['Bandung', 'Sumedang', 'Jakarta', 'Tangerang', 'Bogor', 'Surabaya']\n",
    "})"
   ]
  },
  {
   "cell_type": "code",
   "execution_count": 4,
   "id": "7ada490c",
   "metadata": {},
   "outputs": [],
   "source": [
    "# Menambahkan kolom 'key' ke masing-masing DataFrame\n",
    "data1['Key'] = range(1, len(data1) + 1)\n",
    "data2['Key'] = range(1, len(data2) + 1)"
   ]
  },
  {
   "cell_type": "code",
   "execution_count": 5,
   "id": "c717c76e",
   "metadata": {},
   "outputs": [
    {
     "name": "stdout",
     "output_type": "stream",
     "text": [
      "Data1:\n",
      "                      Nama                   Email Address  Usia  \\\n",
      "0   Dewanda Camilla Zah'ra      dewandacamilla26@gmail.com    20   \n",
      "1            Fina Nur'aeni             finana367@gmail.com    20   \n",
      "2      Iqbal Hakim Nugraha          iqbalhakim00@gmail.com    21   \n",
      "3       Nida Shofwatunnisa   nidashofwatunnisa15@gmail.com    20   \n",
      "4     Silmi Ainun Ashafani  silmiainunashafani02@gmail.com    20   \n",
      "5  Muhammad Yusuf Zulfikar       yusufzulfikar20@gmail.com    20   \n",
      "\n",
      "   Pembelian Terakhir  Key  \n",
      "0                  50    1  \n",
      "1                  45    2  \n",
      "2                  81    3  \n",
      "3                 100    4  \n",
      "4                  79    5  \n",
      "5                 120    6  \n",
      "Data2:\n",
      "                      Nama Status Keanggotaan Alamat Pengiriman  Key\n",
      "0   Dewanda Camilla Zah'ra             Silver           Bandung    1\n",
      "1            Fina Nur'aeni               Gold          Sumedang    2\n",
      "2      Iqbal Hakim Nugraha           Platinum           Jakarta    3\n",
      "3       Nida Shofwatunnisa               Gold         Tangerang    4\n",
      "4     Silmi Ainun Ashafani             Silver             Bogor    5\n",
      "5  Muhammad Yusuf Zulfikar             Silver          Surabaya    6\n"
     ]
    }
   ],
   "source": [
    "print(\"Data1:\")\n",
    "print(data1)\n",
    "print(\"Data2:\")\n",
    "print(data2)"
   ]
  },
  {
   "cell_type": "code",
   "execution_count": 6,
   "id": "17f95f4f",
   "metadata": {},
   "outputs": [],
   "source": [
    "# Data Integration: Gabungkan dua set data menjadi satu berdasarkan kolom 'Nama'\n",
    "merged_data = pd.merge(data1, data2, on='Nama')"
   ]
  },
  {
   "cell_type": "code",
   "execution_count": 7,
   "id": "f953e755",
   "metadata": {},
   "outputs": [],
   "source": [
    "# Data Transformation: Ubah format atau tipe data jika diperlukan\n",
    "merged_data['Usia'] = pd.to_numeric(merged_data['Usia'], errors='coerce')"
   ]
  },
  {
   "cell_type": "code",
   "execution_count": 8,
   "id": "a9e66915",
   "metadata": {},
   "outputs": [],
   "source": [
    "# Data Reduction: Hapus kolom yang tidak relevan atau duplikat\n",
    "cleaned_data = merged_data.drop(['Email Address'], axis=1)"
   ]
  },
  {
   "cell_type": "code",
   "execution_count": 9,
   "id": "46cc7260",
   "metadata": {},
   "outputs": [],
   "source": [
    "# Data Discretization: Pisahkan data numerik menjadi interval diskrit\n",
    "cleaned_data['Usia_bins'] = pd.cut(cleaned_data['Usia'], bins=[0, 20, 40, 60, 80, 100], labels=['0-20', '21-40', '41-60', '61-80', '81-100'])"
   ]
  },
  {
   "cell_type": "code",
   "execution_count": 10,
   "id": "585ad8e8",
   "metadata": {},
   "outputs": [
    {
     "name": "stdout",
     "output_type": "stream",
     "text": [
      "Hasil Preprocessing:\n",
      "                      Nama  Usia  Pembelian Terakhir  Key_x  \\\n",
      "0   Dewanda Camilla Zah'ra    20                  50      1   \n",
      "1            Fina Nur'aeni    20                  45      2   \n",
      "2      Iqbal Hakim Nugraha    21                  81      3   \n",
      "3       Nida Shofwatunnisa    20                 100      4   \n",
      "4     Silmi Ainun Ashafani    20                  79      5   \n",
      "5  Muhammad Yusuf Zulfikar    20                 120      6   \n",
      "\n",
      "  Status Keanggotaan Alamat Pengiriman  Key_y Usia_bins  \n",
      "0             Silver           Bandung      1      0-20  \n",
      "1               Gold          Sumedang      2      0-20  \n",
      "2           Platinum           Jakarta      3     21-40  \n",
      "3               Gold         Tangerang      4      0-20  \n",
      "4             Silver             Bogor      5      0-20  \n",
      "5             Silver          Surabaya      6      0-20  \n"
     ]
    }
   ],
   "source": [
    "print(\"Hasil Preprocessing:\")\n",
    "print(cleaned_data)"
   ]
  },
  {
   "cell_type": "code",
   "execution_count": null,
   "id": "67936310",
   "metadata": {},
   "outputs": [],
   "source": []
  }
 ],
 "metadata": {
  "kernelspec": {
   "display_name": "Python 3 (ipykernel)",
   "language": "python",
   "name": "python3"
  },
  "language_info": {
   "codemirror_mode": {
    "name": "ipython",
    "version": 3
   },
   "file_extension": ".py",
   "mimetype": "text/x-python",
   "name": "python",
   "nbconvert_exporter": "python",
   "pygments_lexer": "ipython3",
   "version": "3.11.5"
  }
 },
 "nbformat": 4,
 "nbformat_minor": 5
}
